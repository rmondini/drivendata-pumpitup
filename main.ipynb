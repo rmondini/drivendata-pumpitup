{
 "cells": [
  {
   "cell_type": "markdown",
   "metadata": {},
   "source": [
    "# Pump It Up - Data Mining the Water Table  \n",
    "We take part in the Driven Data competition 'Pump It Up - Data Mining the Water Table' at  \n",
    "https://www.drivendata.org/competitions/7/pump-it-up-data-mining-the-water-table/page/23/"
   ]
  },
  {
   "cell_type": "markdown",
   "metadata": {},
   "source": [
    "## Import libraries"
   ]
  },
  {
   "cell_type": "code",
   "execution_count": 1,
   "metadata": {},
   "outputs": [],
   "source": [
    "import numpy as np\n",
    "import pandas as pd\n",
    "import tensorflow as tf\n",
    "import matplotlib.pyplot as plt\n",
    "import seaborn as sns\n",
    "import datetime\n",
    "\n",
    "from sklearn.preprocessing import StandardScaler\n",
    "from sklearn.model_selection import train_test_split,GridSearchCV\n",
    "from sklearn.metrics import confusion_matrix\n",
    "from sklearn.ensemble import RandomForestClassifier\n",
    "\n",
    "import imblearn\n",
    "from imblearn.over_sampling import RandomOverSampler"
   ]
  },
  {
   "cell_type": "markdown",
   "metadata": {},
   "source": [
    "## Load dataset and perform initial checks"
   ]
  },
  {
   "cell_type": "code",
   "execution_count": 2,
   "metadata": {},
   "outputs": [],
   "source": [
    "df_train_values = pd.read_csv('./training_set_values.csv')\n",
    "df_train_labels = pd.read_csv('./training_set_labels.csv')\n",
    "df_test_values = pd.read_csv('./test_set_values.csv')"
   ]
  },
  {
   "cell_type": "markdown",
   "metadata": {},
   "source": [
    "Check that values and labels datasets have same length"
   ]
  },
  {
   "cell_type": "code",
   "execution_count": 3,
   "metadata": {},
   "outputs": [
    {
     "name": "stdout",
     "output_type": "stream",
     "text": [
      "(59400, 40)\n",
      "(59400, 2)\n"
     ]
    }
   ],
   "source": [
    "print(df_train_values.shape)\n",
    "print(df_train_labels.shape)"
   ]
  },
  {
   "cell_type": "markdown",
   "metadata": {},
   "source": [
    "Check head of values and labels datasets"
   ]
  },
  {
   "cell_type": "code",
   "execution_count": 4,
   "metadata": {},
   "outputs": [
    {
     "data": {
      "text/html": [
       "<div>\n",
       "<style scoped>\n",
       "    .dataframe tbody tr th:only-of-type {\n",
       "        vertical-align: middle;\n",
       "    }\n",
       "\n",
       "    .dataframe tbody tr th {\n",
       "        vertical-align: top;\n",
       "    }\n",
       "\n",
       "    .dataframe thead th {\n",
       "        text-align: right;\n",
       "    }\n",
       "</style>\n",
       "<table border=\"1\" class=\"dataframe\">\n",
       "  <thead>\n",
       "    <tr style=\"text-align: right;\">\n",
       "      <th></th>\n",
       "      <th>id</th>\n",
       "      <th>amount_tsh</th>\n",
       "      <th>date_recorded</th>\n",
       "      <th>funder</th>\n",
       "      <th>gps_height</th>\n",
       "      <th>installer</th>\n",
       "      <th>longitude</th>\n",
       "      <th>latitude</th>\n",
       "      <th>wpt_name</th>\n",
       "      <th>num_private</th>\n",
       "      <th>...</th>\n",
       "      <th>payment_type</th>\n",
       "      <th>water_quality</th>\n",
       "      <th>quality_group</th>\n",
       "      <th>quantity</th>\n",
       "      <th>quantity_group</th>\n",
       "      <th>source</th>\n",
       "      <th>source_type</th>\n",
       "      <th>source_class</th>\n",
       "      <th>waterpoint_type</th>\n",
       "      <th>waterpoint_type_group</th>\n",
       "    </tr>\n",
       "  </thead>\n",
       "  <tbody>\n",
       "    <tr>\n",
       "      <th>0</th>\n",
       "      <td>69572</td>\n",
       "      <td>6000.0</td>\n",
       "      <td>2011-03-14</td>\n",
       "      <td>Roman</td>\n",
       "      <td>1390</td>\n",
       "      <td>Roman</td>\n",
       "      <td>34.938093</td>\n",
       "      <td>-9.856322</td>\n",
       "      <td>none</td>\n",
       "      <td>0</td>\n",
       "      <td>...</td>\n",
       "      <td>annually</td>\n",
       "      <td>soft</td>\n",
       "      <td>good</td>\n",
       "      <td>enough</td>\n",
       "      <td>enough</td>\n",
       "      <td>spring</td>\n",
       "      <td>spring</td>\n",
       "      <td>groundwater</td>\n",
       "      <td>communal standpipe</td>\n",
       "      <td>communal standpipe</td>\n",
       "    </tr>\n",
       "    <tr>\n",
       "      <th>1</th>\n",
       "      <td>8776</td>\n",
       "      <td>0.0</td>\n",
       "      <td>2013-03-06</td>\n",
       "      <td>Grumeti</td>\n",
       "      <td>1399</td>\n",
       "      <td>GRUMETI</td>\n",
       "      <td>34.698766</td>\n",
       "      <td>-2.147466</td>\n",
       "      <td>Zahanati</td>\n",
       "      <td>0</td>\n",
       "      <td>...</td>\n",
       "      <td>never pay</td>\n",
       "      <td>soft</td>\n",
       "      <td>good</td>\n",
       "      <td>insufficient</td>\n",
       "      <td>insufficient</td>\n",
       "      <td>rainwater harvesting</td>\n",
       "      <td>rainwater harvesting</td>\n",
       "      <td>surface</td>\n",
       "      <td>communal standpipe</td>\n",
       "      <td>communal standpipe</td>\n",
       "    </tr>\n",
       "    <tr>\n",
       "      <th>2</th>\n",
       "      <td>34310</td>\n",
       "      <td>25.0</td>\n",
       "      <td>2013-02-25</td>\n",
       "      <td>Lottery Club</td>\n",
       "      <td>686</td>\n",
       "      <td>World vision</td>\n",
       "      <td>37.460664</td>\n",
       "      <td>-3.821329</td>\n",
       "      <td>Kwa Mahundi</td>\n",
       "      <td>0</td>\n",
       "      <td>...</td>\n",
       "      <td>per bucket</td>\n",
       "      <td>soft</td>\n",
       "      <td>good</td>\n",
       "      <td>enough</td>\n",
       "      <td>enough</td>\n",
       "      <td>dam</td>\n",
       "      <td>dam</td>\n",
       "      <td>surface</td>\n",
       "      <td>communal standpipe multiple</td>\n",
       "      <td>communal standpipe</td>\n",
       "    </tr>\n",
       "    <tr>\n",
       "      <th>3</th>\n",
       "      <td>67743</td>\n",
       "      <td>0.0</td>\n",
       "      <td>2013-01-28</td>\n",
       "      <td>Unicef</td>\n",
       "      <td>263</td>\n",
       "      <td>UNICEF</td>\n",
       "      <td>38.486161</td>\n",
       "      <td>-11.155298</td>\n",
       "      <td>Zahanati Ya Nanyumbu</td>\n",
       "      <td>0</td>\n",
       "      <td>...</td>\n",
       "      <td>never pay</td>\n",
       "      <td>soft</td>\n",
       "      <td>good</td>\n",
       "      <td>dry</td>\n",
       "      <td>dry</td>\n",
       "      <td>machine dbh</td>\n",
       "      <td>borehole</td>\n",
       "      <td>groundwater</td>\n",
       "      <td>communal standpipe multiple</td>\n",
       "      <td>communal standpipe</td>\n",
       "    </tr>\n",
       "    <tr>\n",
       "      <th>4</th>\n",
       "      <td>19728</td>\n",
       "      <td>0.0</td>\n",
       "      <td>2011-07-13</td>\n",
       "      <td>Action In A</td>\n",
       "      <td>0</td>\n",
       "      <td>Artisan</td>\n",
       "      <td>31.130847</td>\n",
       "      <td>-1.825359</td>\n",
       "      <td>Shuleni</td>\n",
       "      <td>0</td>\n",
       "      <td>...</td>\n",
       "      <td>never pay</td>\n",
       "      <td>soft</td>\n",
       "      <td>good</td>\n",
       "      <td>seasonal</td>\n",
       "      <td>seasonal</td>\n",
       "      <td>rainwater harvesting</td>\n",
       "      <td>rainwater harvesting</td>\n",
       "      <td>surface</td>\n",
       "      <td>communal standpipe</td>\n",
       "      <td>communal standpipe</td>\n",
       "    </tr>\n",
       "  </tbody>\n",
       "</table>\n",
       "<p>5 rows × 40 columns</p>\n",
       "</div>"
      ],
      "text/plain": [
       "      id  amount_tsh date_recorded        funder  gps_height     installer  \\\n",
       "0  69572      6000.0    2011-03-14         Roman        1390         Roman   \n",
       "1   8776         0.0    2013-03-06       Grumeti        1399       GRUMETI   \n",
       "2  34310        25.0    2013-02-25  Lottery Club         686  World vision   \n",
       "3  67743         0.0    2013-01-28        Unicef         263        UNICEF   \n",
       "4  19728         0.0    2011-07-13   Action In A           0       Artisan   \n",
       "\n",
       "   longitude   latitude              wpt_name  num_private  ... payment_type  \\\n",
       "0  34.938093  -9.856322                  none            0  ...     annually   \n",
       "1  34.698766  -2.147466              Zahanati            0  ...    never pay   \n",
       "2  37.460664  -3.821329           Kwa Mahundi            0  ...   per bucket   \n",
       "3  38.486161 -11.155298  Zahanati Ya Nanyumbu            0  ...    never pay   \n",
       "4  31.130847  -1.825359               Shuleni            0  ...    never pay   \n",
       "\n",
       "  water_quality quality_group      quantity  quantity_group  \\\n",
       "0          soft          good        enough          enough   \n",
       "1          soft          good  insufficient    insufficient   \n",
       "2          soft          good        enough          enough   \n",
       "3          soft          good           dry             dry   \n",
       "4          soft          good      seasonal        seasonal   \n",
       "\n",
       "                 source           source_type  source_class  \\\n",
       "0                spring                spring   groundwater   \n",
       "1  rainwater harvesting  rainwater harvesting       surface   \n",
       "2                   dam                   dam       surface   \n",
       "3           machine dbh              borehole   groundwater   \n",
       "4  rainwater harvesting  rainwater harvesting       surface   \n",
       "\n",
       "               waterpoint_type waterpoint_type_group  \n",
       "0           communal standpipe    communal standpipe  \n",
       "1           communal standpipe    communal standpipe  \n",
       "2  communal standpipe multiple    communal standpipe  \n",
       "3  communal standpipe multiple    communal standpipe  \n",
       "4           communal standpipe    communal standpipe  \n",
       "\n",
       "[5 rows x 40 columns]"
      ]
     },
     "execution_count": 4,
     "metadata": {},
     "output_type": "execute_result"
    }
   ],
   "source": [
    "df_train_values.head()"
   ]
  },
  {
   "cell_type": "code",
   "execution_count": 5,
   "metadata": {},
   "outputs": [
    {
     "data": {
      "text/html": [
       "<div>\n",
       "<style scoped>\n",
       "    .dataframe tbody tr th:only-of-type {\n",
       "        vertical-align: middle;\n",
       "    }\n",
       "\n",
       "    .dataframe tbody tr th {\n",
       "        vertical-align: top;\n",
       "    }\n",
       "\n",
       "    .dataframe thead th {\n",
       "        text-align: right;\n",
       "    }\n",
       "</style>\n",
       "<table border=\"1\" class=\"dataframe\">\n",
       "  <thead>\n",
       "    <tr style=\"text-align: right;\">\n",
       "      <th></th>\n",
       "      <th>id</th>\n",
       "      <th>status_group</th>\n",
       "    </tr>\n",
       "  </thead>\n",
       "  <tbody>\n",
       "    <tr>\n",
       "      <th>0</th>\n",
       "      <td>69572</td>\n",
       "      <td>functional</td>\n",
       "    </tr>\n",
       "    <tr>\n",
       "      <th>1</th>\n",
       "      <td>8776</td>\n",
       "      <td>functional</td>\n",
       "    </tr>\n",
       "    <tr>\n",
       "      <th>2</th>\n",
       "      <td>34310</td>\n",
       "      <td>functional</td>\n",
       "    </tr>\n",
       "    <tr>\n",
       "      <th>3</th>\n",
       "      <td>67743</td>\n",
       "      <td>non functional</td>\n",
       "    </tr>\n",
       "    <tr>\n",
       "      <th>4</th>\n",
       "      <td>19728</td>\n",
       "      <td>functional</td>\n",
       "    </tr>\n",
       "  </tbody>\n",
       "</table>\n",
       "</div>"
      ],
      "text/plain": [
       "      id    status_group\n",
       "0  69572      functional\n",
       "1   8776      functional\n",
       "2  34310      functional\n",
       "3  67743  non functional\n",
       "4  19728      functional"
      ]
     },
     "execution_count": 5,
     "metadata": {},
     "output_type": "execute_result"
    }
   ],
   "source": [
    "df_train_labels.head()"
   ]
  },
  {
   "cell_type": "markdown",
   "metadata": {},
   "source": [
    "Check that rows have same order among the two df. If all ids match, we should get 0 below:"
   ]
  },
  {
   "cell_type": "code",
   "execution_count": 6,
   "metadata": {},
   "outputs": [
    {
     "data": {
      "text/plain": [
       "0"
      ]
     },
     "execution_count": 6,
     "metadata": {},
     "output_type": "execute_result"
    }
   ],
   "source": [
    "np.sum(df_train_values['id']-df_train_labels['id'])"
   ]
  },
  {
   "cell_type": "markdown",
   "metadata": {},
   "source": [
    "Check info (names, types, any missing values):"
   ]
  },
  {
   "cell_type": "code",
   "execution_count": 7,
   "metadata": {},
   "outputs": [
    {
     "name": "stdout",
     "output_type": "stream",
     "text": [
      "<class 'pandas.core.frame.DataFrame'>\n",
      "RangeIndex: 59400 entries, 0 to 59399\n",
      "Data columns (total 2 columns):\n",
      "id              59400 non-null int64\n",
      "status_group    59400 non-null object\n",
      "dtypes: int64(1), object(1)\n",
      "memory usage: 928.2+ KB\n"
     ]
    }
   ],
   "source": [
    "df_train_labels.info()"
   ]
  },
  {
   "cell_type": "markdown",
   "metadata": {},
   "source": [
    "We observe no missing values for the labels dataset."
   ]
  },
  {
   "cell_type": "code",
   "execution_count": 8,
   "metadata": {
    "scrolled": true
   },
   "outputs": [
    {
     "name": "stdout",
     "output_type": "stream",
     "text": [
      "<class 'pandas.core.frame.DataFrame'>\n",
      "RangeIndex: 59400 entries, 0 to 59399\n",
      "Data columns (total 40 columns):\n",
      "id                       59400 non-null int64\n",
      "amount_tsh               59400 non-null float64\n",
      "date_recorded            59400 non-null object\n",
      "funder                   55765 non-null object\n",
      "gps_height               59400 non-null int64\n",
      "installer                55745 non-null object\n",
      "longitude                59400 non-null float64\n",
      "latitude                 59400 non-null float64\n",
      "wpt_name                 59400 non-null object\n",
      "num_private              59400 non-null int64\n",
      "basin                    59400 non-null object\n",
      "subvillage               59029 non-null object\n",
      "region                   59400 non-null object\n",
      "region_code              59400 non-null int64\n",
      "district_code            59400 non-null int64\n",
      "lga                      59400 non-null object\n",
      "ward                     59400 non-null object\n",
      "population               59400 non-null int64\n",
      "public_meeting           56066 non-null object\n",
      "recorded_by              59400 non-null object\n",
      "scheme_management        55523 non-null object\n",
      "scheme_name              31234 non-null object\n",
      "permit                   56344 non-null object\n",
      "construction_year        59400 non-null int64\n",
      "extraction_type          59400 non-null object\n",
      "extraction_type_group    59400 non-null object\n",
      "extraction_type_class    59400 non-null object\n",
      "management               59400 non-null object\n",
      "management_group         59400 non-null object\n",
      "payment                  59400 non-null object\n",
      "payment_type             59400 non-null object\n",
      "water_quality            59400 non-null object\n",
      "quality_group            59400 non-null object\n",
      "quantity                 59400 non-null object\n",
      "quantity_group           59400 non-null object\n",
      "source                   59400 non-null object\n",
      "source_type              59400 non-null object\n",
      "source_class             59400 non-null object\n",
      "waterpoint_type          59400 non-null object\n",
      "waterpoint_type_group    59400 non-null object\n",
      "dtypes: float64(3), int64(7), object(30)\n",
      "memory usage: 18.1+ MB\n"
     ]
    }
   ],
   "source": [
    "df_train_values.info()"
   ]
  },
  {
   "cell_type": "markdown",
   "metadata": {},
   "source": [
    "We see that some features have missing values. We print out explicitly which features do:"
   ]
  },
  {
   "cell_type": "code",
   "execution_count": 9,
   "metadata": {},
   "outputs": [
    {
     "data": {
      "text/plain": [
       "Index(['funder', 'installer', 'subvillage', 'public_meeting',\n",
       "       'scheme_management', 'scheme_name', 'permit'],\n",
       "      dtype='object')"
      ]
     },
     "execution_count": 9,
     "metadata": {},
     "output_type": "execute_result"
    }
   ],
   "source": [
    "df_train_values.columns[df_train_values.isnull().any()]"
   ]
  },
  {
   "cell_type": "markdown",
   "metadata": {},
   "source": [
    "Finally, print out some basic statistics about numerical features"
   ]
  },
  {
   "cell_type": "code",
   "execution_count": 10,
   "metadata": {
    "scrolled": true
   },
   "outputs": [
    {
     "data": {
      "text/html": [
       "<div>\n",
       "<style scoped>\n",
       "    .dataframe tbody tr th:only-of-type {\n",
       "        vertical-align: middle;\n",
       "    }\n",
       "\n",
       "    .dataframe tbody tr th {\n",
       "        vertical-align: top;\n",
       "    }\n",
       "\n",
       "    .dataframe thead th {\n",
       "        text-align: right;\n",
       "    }\n",
       "</style>\n",
       "<table border=\"1\" class=\"dataframe\">\n",
       "  <thead>\n",
       "    <tr style=\"text-align: right;\">\n",
       "      <th></th>\n",
       "      <th>amount_tsh</th>\n",
       "      <th>gps_height</th>\n",
       "      <th>longitude</th>\n",
       "      <th>latitude</th>\n",
       "      <th>num_private</th>\n",
       "      <th>region_code</th>\n",
       "      <th>district_code</th>\n",
       "      <th>population</th>\n",
       "      <th>construction_year</th>\n",
       "    </tr>\n",
       "  </thead>\n",
       "  <tbody>\n",
       "    <tr>\n",
       "      <th>count</th>\n",
       "      <td>59400.000000</td>\n",
       "      <td>59400.000000</td>\n",
       "      <td>59400.000000</td>\n",
       "      <td>5.940000e+04</td>\n",
       "      <td>59400.000000</td>\n",
       "      <td>59400.000000</td>\n",
       "      <td>59400.000000</td>\n",
       "      <td>59400.000000</td>\n",
       "      <td>59400.000000</td>\n",
       "    </tr>\n",
       "    <tr>\n",
       "      <th>mean</th>\n",
       "      <td>317.650385</td>\n",
       "      <td>668.297239</td>\n",
       "      <td>34.077427</td>\n",
       "      <td>-5.706033e+00</td>\n",
       "      <td>0.474141</td>\n",
       "      <td>15.297003</td>\n",
       "      <td>5.629747</td>\n",
       "      <td>179.909983</td>\n",
       "      <td>1300.652475</td>\n",
       "    </tr>\n",
       "    <tr>\n",
       "      <th>std</th>\n",
       "      <td>2997.574558</td>\n",
       "      <td>693.116350</td>\n",
       "      <td>6.567432</td>\n",
       "      <td>2.946019e+00</td>\n",
       "      <td>12.236230</td>\n",
       "      <td>17.587406</td>\n",
       "      <td>9.633649</td>\n",
       "      <td>471.482176</td>\n",
       "      <td>951.620547</td>\n",
       "    </tr>\n",
       "    <tr>\n",
       "      <th>min</th>\n",
       "      <td>0.000000</td>\n",
       "      <td>-90.000000</td>\n",
       "      <td>0.000000</td>\n",
       "      <td>-1.164944e+01</td>\n",
       "      <td>0.000000</td>\n",
       "      <td>1.000000</td>\n",
       "      <td>0.000000</td>\n",
       "      <td>0.000000</td>\n",
       "      <td>0.000000</td>\n",
       "    </tr>\n",
       "    <tr>\n",
       "      <th>25%</th>\n",
       "      <td>0.000000</td>\n",
       "      <td>0.000000</td>\n",
       "      <td>33.090347</td>\n",
       "      <td>-8.540621e+00</td>\n",
       "      <td>0.000000</td>\n",
       "      <td>5.000000</td>\n",
       "      <td>2.000000</td>\n",
       "      <td>0.000000</td>\n",
       "      <td>0.000000</td>\n",
       "    </tr>\n",
       "    <tr>\n",
       "      <th>50%</th>\n",
       "      <td>0.000000</td>\n",
       "      <td>369.000000</td>\n",
       "      <td>34.908743</td>\n",
       "      <td>-5.021597e+00</td>\n",
       "      <td>0.000000</td>\n",
       "      <td>12.000000</td>\n",
       "      <td>3.000000</td>\n",
       "      <td>25.000000</td>\n",
       "      <td>1986.000000</td>\n",
       "    </tr>\n",
       "    <tr>\n",
       "      <th>75%</th>\n",
       "      <td>20.000000</td>\n",
       "      <td>1319.250000</td>\n",
       "      <td>37.178387</td>\n",
       "      <td>-3.326156e+00</td>\n",
       "      <td>0.000000</td>\n",
       "      <td>17.000000</td>\n",
       "      <td>5.000000</td>\n",
       "      <td>215.000000</td>\n",
       "      <td>2004.000000</td>\n",
       "    </tr>\n",
       "    <tr>\n",
       "      <th>max</th>\n",
       "      <td>350000.000000</td>\n",
       "      <td>2770.000000</td>\n",
       "      <td>40.345193</td>\n",
       "      <td>-2.000000e-08</td>\n",
       "      <td>1776.000000</td>\n",
       "      <td>99.000000</td>\n",
       "      <td>80.000000</td>\n",
       "      <td>30500.000000</td>\n",
       "      <td>2013.000000</td>\n",
       "    </tr>\n",
       "  </tbody>\n",
       "</table>\n",
       "</div>"
      ],
      "text/plain": [
       "          amount_tsh    gps_height     longitude      latitude   num_private  \\\n",
       "count   59400.000000  59400.000000  59400.000000  5.940000e+04  59400.000000   \n",
       "mean      317.650385    668.297239     34.077427 -5.706033e+00      0.474141   \n",
       "std      2997.574558    693.116350      6.567432  2.946019e+00     12.236230   \n",
       "min         0.000000    -90.000000      0.000000 -1.164944e+01      0.000000   \n",
       "25%         0.000000      0.000000     33.090347 -8.540621e+00      0.000000   \n",
       "50%         0.000000    369.000000     34.908743 -5.021597e+00      0.000000   \n",
       "75%        20.000000   1319.250000     37.178387 -3.326156e+00      0.000000   \n",
       "max    350000.000000   2770.000000     40.345193 -2.000000e-08   1776.000000   \n",
       "\n",
       "        region_code  district_code    population  construction_year  \n",
       "count  59400.000000   59400.000000  59400.000000       59400.000000  \n",
       "mean      15.297003       5.629747    179.909983        1300.652475  \n",
       "std       17.587406       9.633649    471.482176         951.620547  \n",
       "min        1.000000       0.000000      0.000000           0.000000  \n",
       "25%        5.000000       2.000000      0.000000           0.000000  \n",
       "50%       12.000000       3.000000     25.000000        1986.000000  \n",
       "75%       17.000000       5.000000    215.000000        2004.000000  \n",
       "max       99.000000      80.000000  30500.000000        2013.000000  "
      ]
     },
     "execution_count": 10,
     "metadata": {},
     "output_type": "execute_result"
    }
   ],
   "source": [
    "df_train_values.describe().drop(['id'],axis=1)"
   ]
  },
  {
   "cell_type": "markdown",
   "metadata": {},
   "source": [
    "A few comments:  \n",
    "- 'amount_tsh' seems to have some problems (most of the values are zero and max is much higher than 75th pencentile)\n",
    "- 'gps_height' looks ok. Altitudes in Tanzania vary between sea level and Mount Kilimanjaro at 5,895m. Since we are talking about wells, a negative value (meaning a well below sea level) still looks reasonable.\n",
    "- from this website (https://www.worldatlas.com/af/tz/where-is-tanzania.html) we learn that Tanzania is positioned in the latitude range of [-11.75,-0.99] and longitude range of [29.33,40.45]. This means that the min of 'longitude' cannot be correct as well as the max of 'latitude'. The other values look ok.\n",
    "- from the competition description it's not clear what 'num_private' corresponds to.\n",
    "- 'region_code' and 'district_code' look ok for all we know.\n",
    "- the max of 'population' looks like an outlier given the other percentiles (also a lot of zero values).\n",
    "- 'construction_year' of 0 cannot obviously be correct (many zero values)."
   ]
  },
  {
   "cell_type": "markdown",
   "metadata": {},
   "source": [
    "## EDA"
   ]
  },
  {
   "cell_type": "markdown",
   "metadata": {},
   "source": [
    "Heatmap of the correlations between the numerical features"
   ]
  },
  {
   "cell_type": "code",
   "execution_count": 11,
   "metadata": {},
   "outputs": [
    {
     "data": {
      "image/png": "[encoded data removed]",
      "text/plain": [
       "<Figure size 864x864 with 2 Axes>"
      ]
     },
     "metadata": {
      "needs_background": "light"
     },
     "output_type": "display_data"
    }
   ],
   "source": [
    "plt.figure(figsize=(12,12))\n",
    "sns.heatmap(df_train_values.drop(['id','num_private'],axis=1).corr(), square=True, annot=True, fmt='.2f', cmap='coolwarm')\n",
    "plt.show()"
   ]
  },
  {
   "cell_type": "markdown",
   "metadata": {},
   "source": [
    "In general we do not observe extremely large positive or negative correlations between features. The feature 'construction_year' seems to be correlated with 'gps_height', indicating that maybe wells located in the mountains were built more recently than wells at lower altitudes (probably easier to build). There also seems to be positive correlation between 'region_code' and 'district_code' which could simply be a consequence of how these codes have been established (we do not have details about them in the competition description). Finally, we observe a mild correlation between 'latitude' and 'longitude' (negative, probably just due to the shape of the country itself, see below) and between 'longitude' and 'construction_year' (positive, indicating that wells were likely built first in the west part of the country and then in the east part)."
   ]
  },
  {
   "cell_type": "markdown",
   "metadata": {},
   "source": [
    "Scatter plot of latitude and longitude to visualize where the wells are. It's interesting to observe that we reproduce the shape of the country pretty well."
   ]
  },
  {
   "cell_type": "code",
   "execution_count": 12,
   "metadata": {},
   "outputs": [
    {
     "data": {
      "image/png": "[encoded data removed]",
      "text/plain": [
       "<Figure size 432x432 with 1 Axes>"
      ]
     },
     "metadata": {
      "needs_background": "light"
     },
     "output_type": "display_data"
    }
   ],
   "source": [
    "plt.figure(figsize=(6,6))\n",
    "plt.scatter(df_train_values['longitude'], df_train_values['latitude'], 10, marker='.', c='r')\n",
    "plt.xlabel('Longitude',size=14)\n",
    "plt.ylabel('Latitude',size=14)\n",
    "plt.xlim(28,42)\n",
    "plt.ylim(-12,-0.5)\n",
    "plt.title('Distribution of wells')\n",
    "plt.show()"
   ]
  },
  {
   "cell_type": "markdown",
   "metadata": {},
   "source": [
    "Check if the train dataset is balanced on the target or not:"
   ]
  },
  {
   "cell_type": "code",
   "execution_count": 13,
   "metadata": {},
   "outputs": [
    {
     "data": {
      "image/png": "[encoded data removed]",
      "text/plain": [
       "<Figure size 432x288 with 1 Axes>"
      ]
     },
     "metadata": {
      "needs_background": "light"
     },
     "output_type": "display_data"
    }
   ],
   "source": [
    "sns.countplot(x='status_group', data=df_train_labels)\n",
    "plt.show()"
   ]
  },
  {
   "cell_type": "code",
   "execution_count": 14,
   "metadata": {
    "scrolled": true
   },
   "outputs": [
    {
     "data": {
      "text/plain": [
       "functional                 0.543081\n",
       "non functional             0.384242\n",
       "functional needs repair    0.072677\n",
       "Name: status_group, dtype: float64"
      ]
     },
     "execution_count": 14,
     "metadata": {},
     "output_type": "execute_result"
    }
   ],
   "source": [
    "df_train_labels['status_group'].value_counts()/len(df_train_labels)"
   ]
  },
  {
   "cell_type": "markdown",
   "metadata": {},
   "source": [
    "We observe that the train set has 54.3% functional wells, 38.4% non-functional wells, and 7.3% functional wells that need repair."
   ]
  },
  {
   "cell_type": "markdown",
   "metadata": {},
   "source": [
    "## Data cleaning and pre-processing"
   ]
  },
  {
   "cell_type": "markdown",
   "metadata": {},
   "source": [
    "### Create train target without one-hot encoding"
   ]
  },
  {
   "cell_type": "code",
   "execution_count": 15,
   "metadata": {},
   "outputs": [],
   "source": [
    "train_target_nohe = df_train_labels.drop('id',axis=1)\n",
    "train_target_nohe_num = train_target_nohe.replace({'functional': 0, 'non functional': 1,\n",
    "                                                   'functional needs repair': 2})"
   ]
  },
  {
   "cell_type": "markdown",
   "metadata": {},
   "source": [
    "### Create train target with one-hot encoding"
   ]
  },
  {
   "cell_type": "code",
   "execution_count": 16,
   "metadata": {},
   "outputs": [],
   "source": [
    "train_target_ohe = df_train_labels.copy()\n",
    "train_target_ohe = pd.get_dummies(train_target_ohe,columns=['status_group'],drop_first=False)\n",
    "train_target_ohe.drop('id',axis=1, inplace=True)"
   ]
  },
  {
   "cell_type": "markdown",
   "metadata": {},
   "source": [
    "Check possible target values"
   ]
  },
  {
   "cell_type": "code",
   "execution_count": 17,
   "metadata": {},
   "outputs": [
    {
     "name": "stdout",
     "output_type": "stream",
     "text": [
      "['functional', 'functional needs repair', 'non functional']\n"
     ]
    }
   ],
   "source": [
    "sorted_target_values = sorted(list(df_train_labels['status_group'].unique()))\n",
    "print(sorted_target_values)"
   ]
  },
  {
   "cell_type": "code",
   "execution_count": 18,
   "metadata": {},
   "outputs": [
    {
     "data": {
      "text/plain": [
       "['status_group_functional',\n",
       " 'status_group_functional needs repair',\n",
       " 'status_group_non functional']"
      ]
     },
     "execution_count": 18,
     "metadata": {},
     "output_type": "execute_result"
    }
   ],
   "source": [
    "list(train_target_ohe.columns)"
   ]
  },
  {
   "cell_type": "markdown",
   "metadata": {},
   "source": [
    "### Balance dataset on minority classes by random oversampling"
   ]
  },
  {
   "cell_type": "code",
   "execution_count": 19,
   "metadata": {},
   "outputs": [],
   "source": [
    "#train_target_nohe_num = train_target_nohe.replace({'functional': 0, 'non functional': 1, 'functional needs repair': 2})\n",
    "\n",
    "#ros = RandomOverSampler()\n",
    "#X_ros, y_ros = ros.fit_sample(df_train_values.values, np.array(train_target_nohe_num['status_group']))\n",
    "#df_train_values_ros = pd.DataFrame(X_ros,columns=df_train_values.columns)\n",
    "#train_target_nohe_ros = pd.DataFrame(y_ros,columns=['status_group'])\n",
    "#train_target_nohe_ros.replace({0: 'functional', 1:'non functional', 2:'functional needs repair'},inplace=True)\n",
    "\n",
    "#sns.countplot(x='status_group', data=train_target_nohe_ros)\n",
    "#plt.show()"
   ]
  },
  {
   "cell_type": "markdown",
   "metadata": {},
   "source": [
    "### Work on features & feature engineering"
   ]
  },
  {
   "cell_type": "code",
   "execution_count": 20,
   "metadata": {},
   "outputs": [],
   "source": [
    "#df_train_values_ros"
   ]
  },
  {
   "cell_type": "code",
   "execution_count": 21,
   "metadata": {},
   "outputs": [],
   "source": [
    "train_len = len(df_train_values)\n",
    "df_train_test_preprocessed = pd.concat([df_train_values,df_test_values])"
   ]
  },
  {
   "cell_type": "markdown",
   "metadata": {},
   "source": [
    "We initially drop features with no predictive power ('id', 'num_private', 'recorded_by') and then work on each feature individually."
   ]
  },
  {
   "cell_type": "code",
   "execution_count": 22,
   "metadata": {},
   "outputs": [],
   "source": [
    "columns_to_drop = ['id','num_private','recorded_by']"
   ]
  },
  {
   "cell_type": "code",
   "execution_count": 23,
   "metadata": {
    "scrolled": true
   },
   "outputs": [],
   "source": [
    "df_train_test_preprocessed.drop(columns_to_drop,axis=1, inplace=True)"
   ]
  },
  {
   "cell_type": "markdown",
   "metadata": {},
   "source": [
    "#### 'amount_tsh'  \n",
    "We observe that 70% of the values correspond to 0, which probably indicates a missing value. We therefore drop this feature."
   ]
  },
  {
   "cell_type": "code",
   "execution_count": 24,
   "metadata": {},
   "outputs": [
    {
     "data": {
      "text/plain": [
       "0.700996632996633"
      ]
     },
     "execution_count": 24,
     "metadata": {},
     "output_type": "execute_result"
    }
   ],
   "source": [
    "sum(df_train_test_preprocessed['amount_tsh'] == 0.0)/len(df_train_test_preprocessed)"
   ]
  },
  {
   "cell_type": "code",
   "execution_count": 25,
   "metadata": {},
   "outputs": [],
   "source": [
    "df_train_test_preprocessed.drop(['amount_tsh'],axis=1, inplace=True)"
   ]
  },
  {
   "cell_type": "markdown",
   "metadata": {},
   "source": [
    "#### 'date_recorded'  \n",
    "We convert 'date_recorded' into a new feature, 'month_recorded', to investigate any seasonal effects."
   ]
  },
  {
   "cell_type": "code",
   "execution_count": 26,
   "metadata": {},
   "outputs": [],
   "source": [
    "df_train_test_preprocessed['month_recorded'] = pd.to_datetime(df_train_test_preprocessed['date_recorded']).dt.month\n",
    "df_train_test_preprocessed['month_recorded'] = df_train_test_preprocessed['month_recorded'].astype(object)\n",
    "df_train_test_preprocessed.drop(['date_recorded'],axis=1, inplace=True)"
   ]
  },
  {
   "cell_type": "markdown",
   "metadata": {},
   "source": [
    "#### 'funder'  \n",
    "Values with value_counts below a set threshold are all renamed 'Other'. Rename duplicates and '0' probably corresponds to NaN. We use mode imputation for NaNs."
   ]
  },
  {
   "cell_type": "code",
   "execution_count": 27,
   "metadata": {},
   "outputs": [],
   "source": [
    "df_train_test_preprocessed['funder'].replace({'Ministry Of Water':'Government Of Tanzania',\n",
    "                                              'Nerthlands':'Netherlands',\n",
    "                                              'Private':'Private Individual','Kkkt Church':'Kkkt',\n",
    "                                              'Kkkt_makwale':'Kkkt','Finw':'Fini Water','Fin Water':'Fini Water',\n",
    "                                              'Unice':'Unicef','Concern':'Concern World Wide',\n",
    "                                              'Roman':'Rc Church','Rc':'Rc Church','Roman Catholic':'Rc Church',\n",
    "                                              'Worldvision':'World Vision','W0rld  Bank':'World Bank'},inplace=True)\n",
    "df_train_test_preprocessed['funder'].replace('0',np.nan,inplace=True)\n",
    "df_train_test_preprocessed['funder'].fillna(df_train_test_preprocessed['funder'].mode()[0],inplace=True)"
   ]
  },
  {
   "cell_type": "code",
   "execution_count": 28,
   "metadata": {},
   "outputs": [],
   "source": [
    "funder_freqs = df_train_test_preprocessed['funder'].value_counts()\n",
    "funder_cond = funder_freqs<500\n",
    "\n",
    "funder_mask_obs = funder_freqs[funder_cond].index\n",
    "funder_mask_dict = dict.fromkeys(funder_mask_obs,'Other')\n",
    "\n",
    "df_train_test_preprocessed['funder'].replace(funder_mask_dict,inplace=True)"
   ]
  },
  {
   "cell_type": "markdown",
   "metadata": {},
   "source": [
    "#### 'gps_height'  \n",
    "Median imputation for 0 (=NaN) based on what region the entry is in. If for that region no entry has a non-zero value for 'gps_height', then median imputation based on the whole dataset."
   ]
  },
  {
   "cell_type": "code",
   "execution_count": 29,
   "metadata": {},
   "outputs": [],
   "source": [
    "df_train_test_preprocessed['gps_height'].replace(0,np.nan,inplace=True)\n",
    "\n",
    "gps_height_median = df_train_test_preprocessed['gps_height'].median()\n",
    "df_gps_height_median_by_region = df_train_test_preprocessed.groupby('region')[['gps_height']].median()"
   ]
  },
  {
   "cell_type": "code",
   "execution_count": 30,
   "metadata": {},
   "outputs": [],
   "source": [
    "df_train_test_preprocessed['gps_height'] = df_train_test_preprocessed.apply(lambda row: df_gps_height_median_by_region.loc[row['region']][0] if np.isnan(row['gps_height']) else row['gps_height'], axis=1)"
   ]
  },
  {
   "cell_type": "code",
   "execution_count": 31,
   "metadata": {},
   "outputs": [],
   "source": [
    "df_train_test_preprocessed['gps_height'].fillna(gps_height_median,inplace=True)"
   ]
  },
  {
   "cell_type": "markdown",
   "metadata": {},
   "source": [
    "#### 'installer'  \n",
    "Rename duplicates, mode imputation for NaNs, and group less frequent values (value_counts below a set threshold) into 'Other'."
   ]
  },
  {
   "cell_type": "code",
   "execution_count": 32,
   "metadata": {},
   "outputs": [],
   "source": [
    "df_train_test_preprocessed['installer'].replace({'Central government':'Government',\n",
    "                                            'District council':'District Council',\n",
    "                                            'World vision':'World Vision',\n",
    "                                            'Commu':'Community',\n",
    "                                            'HESAWA':'Hesawa',\n",
    "                                            'Gover':'Government','Gove':'Government','Centr':'Government',\n",
    "                                            'Central govt':'Government','GOVER':'Government'},inplace=True)\n",
    "df_train_test_preprocessed['installer'].replace('0',np.nan,inplace=True)\n",
    "df_train_test_preprocessed['installer'].fillna(df_train_test_preprocessed['installer'].mode()[0],inplace=True)"
   ]
  },
  {
   "cell_type": "code",
   "execution_count": 33,
   "metadata": {},
   "outputs": [],
   "source": [
    "installer_freqs = df_train_test_preprocessed['installer'].value_counts()\n",
    "installer_cond = installer_freqs<400\n",
    "\n",
    "installer_mask_obs = installer_freqs[installer_cond].index\n",
    "installer_mask_dict = dict.fromkeys(installer_mask_obs,'Other')\n",
    "\n",
    "df_train_test_preprocessed['installer'].replace(installer_mask_dict,inplace=True)"
   ]
  },
  {
   "cell_type": "markdown",
   "metadata": {},
   "source": [
    "#### 'longitude' and 'latitude'  \n",
    "We know that Tanzania has latitude [-11.75,-0.99] and longitude [29.33,40.45] so values of [0,0] are clearly wrong. We replace those values with the average latitude and longitude of the district that entry is in (based on 'district_code')."
   ]
  },
  {
   "cell_type": "code",
   "execution_count": 34,
   "metadata": {},
   "outputs": [],
   "source": [
    "df_train_test_preprocessed.loc[df_train_test_preprocessed['longitude'] < 29.33,'longitude'] = np.nan\n",
    "df_train_test_preprocessed.loc[df_train_test_preprocessed['latitude'] > -0.99,'latitude'] = np.nan\n",
    "\n",
    "df_longitude_mean_by_district_code = df_train_test_preprocessed.groupby('district_code')[['longitude']].mean()\n",
    "df_latitude_mean_by_district_code = df_train_test_preprocessed.groupby('district_code')[['latitude']].mean()"
   ]
  },
  {
   "cell_type": "code",
   "execution_count": 35,
   "metadata": {},
   "outputs": [],
   "source": [
    "df_train_test_preprocessed['longitude'] = df_train_test_preprocessed.apply(lambda row: df_longitude_mean_by_district_code.loc[row['district_code']][0] if np.isnan(row['longitude']) else row['longitude'], axis=1)\n",
    "\n",
    "df_train_test_preprocessed['latitude'] = df_train_test_preprocessed.apply(lambda row: df_latitude_mean_by_district_code.loc[row['district_code']][0] if np.isnan(row['latitude']) else row['latitude'], axis=1)"
   ]
  },
  {
   "cell_type": "markdown",
   "metadata": {},
   "source": [
    "#### 'basin', 'region', 'region_code', 'district_code'  \n",
    "We keep 'basin', 'region', and 'district_code' untouched (we convert 'district_code' to categorical instead of numerical). We drop 'region_code' since it's essentially a copy of 'region'."
   ]
  },
  {
   "cell_type": "code",
   "execution_count": 36,
   "metadata": {},
   "outputs": [],
   "source": [
    "df_train_test_preprocessed['district_code'] = df_train_test_preprocessed['district_code'].astype(object)\n",
    "df_train_test_preprocessed.drop(['region_code'],axis=1, inplace=True)"
   ]
  },
  {
   "cell_type": "markdown",
   "metadata": {},
   "source": [
    "#### 'lga'  \n",
    "We split 'lga' into 'Urban', 'Rural', or 'Other'."
   ]
  },
  {
   "cell_type": "code",
   "execution_count": 37,
   "metadata": {},
   "outputs": [],
   "source": [
    "df_train_test_preprocessed.loc[df_train_test_preprocessed['lga'].str.contains('Urban',case=False),'lga'] = 'Urban'\n",
    "df_train_test_preprocessed.loc[df_train_test_preprocessed['lga'].str.contains('Rural',case=False),'lga'] = 'Rural'\n",
    "df_train_test_preprocessed.loc[~df_train_test_preprocessed['lga'].str.contains('Rural',case=False) & \n",
    "                               ~df_train_test_preprocessed['lga'].str.contains('Urban',case=False),'lga'] = 'Other'"
   ]
  },
  {
   "cell_type": "markdown",
   "metadata": {},
   "source": [
    "#### 'ward', 'subvillage', 'wpt_name'\n",
    "We drop these features since they have too many different values to have any predicting power."
   ]
  },
  {
   "cell_type": "code",
   "execution_count": 38,
   "metadata": {},
   "outputs": [],
   "source": [
    "df_train_test_preprocessed.drop(['ward','subvillage','wpt_name'],axis=1, inplace=True)"
   ]
  },
  {
   "cell_type": "markdown",
   "metadata": {},
   "source": [
    "#### 'population'  \n",
    "Population values of 0 and 1 are suspicious (might indicate missing values) and they make up almost 48% of the values in the train set so we decide to drop this feature."
   ]
  },
  {
   "cell_type": "code",
   "execution_count": 39,
   "metadata": {},
   "outputs": [],
   "source": [
    "df_train_test_preprocessed.drop(['population'],axis=1, inplace=True)"
   ]
  },
  {
   "cell_type": "markdown",
   "metadata": {},
   "source": [
    "#### 'public_meeting' and 'permit'\n",
    "Mode imputation for missing values"
   ]
  },
  {
   "cell_type": "code",
   "execution_count": 40,
   "metadata": {},
   "outputs": [],
   "source": [
    "pmp_fill_missing_values = {'public_meeting': df_train_test_preprocessed['public_meeting'].mode()[0],\n",
    "                           'permit': df_train_test_preprocessed['permit'].mode()[0]}\n",
    "\n",
    "df_train_test_preprocessed.fillna(pmp_fill_missing_values,inplace=True)"
   ]
  },
  {
   "cell_type": "markdown",
   "metadata": {},
   "source": [
    "#### 'scheme_name', 'scheme_management'\n",
    "Drop 'scheme_name' because of too many different values. Rename duplicates and mode imputation for 'scheme_management'."
   ]
  },
  {
   "cell_type": "code",
   "execution_count": 41,
   "metadata": {},
   "outputs": [],
   "source": [
    "df_train_test_preprocessed['scheme_management'].replace({'Water authority':'Water Board','None':np.nan},inplace=True)\n",
    "df_train_test_preprocessed['scheme_management'].fillna(df_train_test_preprocessed['scheme_management'].mode()[0],inplace=True)\n",
    "\n",
    "df_train_test_preprocessed.drop(['scheme_name'],axis=1, inplace=True)"
   ]
  },
  {
   "cell_type": "markdown",
   "metadata": {},
   "source": [
    "#### 'construction_year'  \n",
    "Median imputation for 0 (=NaN) based on what region the entry is in. If for that region no entry has a non-zero value for 'gps_height', then median imputation based on the whole dataset."
   ]
  },
  {
   "cell_type": "code",
   "execution_count": 42,
   "metadata": {},
   "outputs": [],
   "source": [
    "df_train_test_preprocessed['construction_year'].replace(0,np.nan,inplace=True)\n",
    "\n",
    "construction_year_median = df_train_test_preprocessed['construction_year'].median()\n",
    "df_construction_year_median_by_region = df_train_test_preprocessed.groupby('region')[['construction_year']].median()"
   ]
  },
  {
   "cell_type": "code",
   "execution_count": 43,
   "metadata": {},
   "outputs": [],
   "source": [
    "df_train_test_preprocessed['construction_year'] = df_train_test_preprocessed.apply(lambda row: df_construction_year_median_by_region.loc[row['region']][0] if np.isnan(row['construction_year']) else row['construction_year'], axis=1)"
   ]
  },
  {
   "cell_type": "code",
   "execution_count": 44,
   "metadata": {},
   "outputs": [],
   "source": [
    "df_train_test_preprocessed['construction_year'].fillna(construction_year_median,inplace=True)"
   ]
  },
  {
   "cell_type": "markdown",
   "metadata": {},
   "source": [
    "#### 'extraction_type', 'extraction_type_group', 'extraction_type_class'"
   ]
  },
  {
   "cell_type": "code",
   "execution_count": 45,
   "metadata": {},
   "outputs": [],
   "source": [
    "df_train_test_preprocessed['extraction_type'].replace({'swn 80':'swn','other - swn 81':'swn',\n",
    "                                                  'india mark ii':'india mark','india mark iii':'india mark'},inplace=True)"
   ]
  },
  {
   "cell_type": "code",
   "execution_count": 46,
   "metadata": {},
   "outputs": [],
   "source": [
    "df_train_test_preprocessed.drop(['extraction_type_group'],axis=1, inplace=True)"
   ]
  },
  {
   "cell_type": "markdown",
   "metadata": {},
   "source": [
    "#### 'management', 'management_group'"
   ]
  },
  {
   "cell_type": "code",
   "execution_count": 47,
   "metadata": {},
   "outputs": [],
   "source": [
    "df_train_test_preprocessed['management_group'].replace('unknown',df_train_test_preprocessed['management_group'].mode()[0],inplace=True)\n",
    "\n",
    "df_train_test_preprocessed['management'].replace({'water authority':'water board','unknown':df_train_test_preprocessed['management'].mode()[0]},inplace=True)"
   ]
  },
  {
   "cell_type": "markdown",
   "metadata": {},
   "source": [
    "#### 'payment', 'payment_type'"
   ]
  },
  {
   "cell_type": "code",
   "execution_count": 48,
   "metadata": {},
   "outputs": [],
   "source": [
    "df_train_test_preprocessed['payment'].replace('unknown',df_train_test_preprocessed['payment'].mode()[0],inplace=True)"
   ]
  },
  {
   "cell_type": "code",
   "execution_count": 49,
   "metadata": {},
   "outputs": [],
   "source": [
    "df_train_test_preprocessed.drop(['payment_type'],axis=1, inplace=True)"
   ]
  },
  {
   "cell_type": "markdown",
   "metadata": {},
   "source": [
    "#### 'water_quality', 'quality_group'"
   ]
  },
  {
   "cell_type": "code",
   "execution_count": 50,
   "metadata": {},
   "outputs": [],
   "source": [
    "df_train_test_preprocessed['water_quality'].replace('unknown',df_train_test_preprocessed['water_quality'].mode()[0],inplace=True)"
   ]
  },
  {
   "cell_type": "code",
   "execution_count": 51,
   "metadata": {},
   "outputs": [],
   "source": [
    "df_train_test_preprocessed.drop(['quality_group'],axis=1, inplace=True)"
   ]
  },
  {
   "cell_type": "markdown",
   "metadata": {},
   "source": [
    "#### 'quantity', 'quantity_group'"
   ]
  },
  {
   "cell_type": "code",
   "execution_count": 52,
   "metadata": {},
   "outputs": [],
   "source": [
    "df_train_test_preprocessed['quantity'].replace('unknown',df_train_test_preprocessed['quantity'].mode()[0],inplace=True)"
   ]
  },
  {
   "cell_type": "code",
   "execution_count": 53,
   "metadata": {},
   "outputs": [],
   "source": [
    "df_train_test_preprocessed.drop(['quantity_group'],axis=1, inplace=True)"
   ]
  },
  {
   "cell_type": "markdown",
   "metadata": {},
   "source": [
    "#### 'source', 'source_type', 'source_class'"
   ]
  },
  {
   "cell_type": "code",
   "execution_count": 54,
   "metadata": {},
   "outputs": [],
   "source": [
    "df_train_test_preprocessed['source'].replace('unknown',df_train_test_preprocessed['source'].mode()[0],inplace=True)"
   ]
  },
  {
   "cell_type": "code",
   "execution_count": 55,
   "metadata": {},
   "outputs": [],
   "source": [
    "df_train_test_preprocessed['source_class'].replace('unknown',df_train_test_preprocessed['source_class'].mode()[0],inplace=True)"
   ]
  },
  {
   "cell_type": "code",
   "execution_count": 56,
   "metadata": {},
   "outputs": [],
   "source": [
    "df_train_test_preprocessed.drop(['source_type'],axis=1, inplace=True)"
   ]
  },
  {
   "cell_type": "markdown",
   "metadata": {},
   "source": [
    "#### 'waterpoint_type', 'waterpoint_type_group'"
   ]
  },
  {
   "cell_type": "code",
   "execution_count": 57,
   "metadata": {},
   "outputs": [],
   "source": [
    "df_train_test_preprocessed.drop(['waterpoint_type_group'],axis=1, inplace=True)"
   ]
  },
  {
   "cell_type": "markdown",
   "metadata": {},
   "source": [
    "### Recap of dataset"
   ]
  },
  {
   "cell_type": "code",
   "execution_count": 58,
   "metadata": {
    "scrolled": false
   },
   "outputs": [
    {
     "name": "stdout",
     "output_type": "stream",
     "text": [
      "<class 'pandas.core.frame.DataFrame'>\n",
      "Int64Index: 74250 entries, 0 to 14849\n",
      "Data columns (total 24 columns):\n",
      "funder                   74250 non-null object\n",
      "gps_height               74250 non-null float64\n",
      "installer                74250 non-null object\n",
      "longitude                74250 non-null float64\n",
      "latitude                 74250 non-null float64\n",
      "basin                    74250 non-null object\n",
      "region                   74250 non-null object\n",
      "district_code            74250 non-null object\n",
      "lga                      74250 non-null object\n",
      "public_meeting           74250 non-null bool\n",
      "scheme_management        74250 non-null object\n",
      "permit                   74250 non-null bool\n",
      "construction_year        74250 non-null float64\n",
      "extraction_type          74250 non-null object\n",
      "extraction_type_class    74250 non-null object\n",
      "management               74250 non-null object\n",
      "management_group         74250 non-null object\n",
      "payment                  74250 non-null object\n",
      "water_quality            74250 non-null object\n",
      "quantity                 74250 non-null object\n",
      "source                   74250 non-null object\n",
      "source_class             74250 non-null object\n",
      "waterpoint_type          74250 non-null object\n",
      "month_recorded           74250 non-null object\n",
      "dtypes: bool(2), float64(4), object(18)\n",
      "memory usage: 13.2+ MB\n"
     ]
    }
   ],
   "source": [
    "df_train_test_preprocessed.info()"
   ]
  },
  {
   "cell_type": "markdown",
   "metadata": {},
   "source": [
    "### *** EITHER: Label encode categorical features & standardize all features"
   ]
  },
  {
   "cell_type": "code",
   "execution_count": 194,
   "metadata": {},
   "outputs": [],
   "source": [
    "categorical_features = list(df_train_test_preprocessed.select_dtypes(exclude=[\"number\"]).columns)"
   ]
  },
  {
   "cell_type": "code",
   "execution_count": 195,
   "metadata": {},
   "outputs": [],
   "source": [
    "train_test_scaled_inputs = df_train_test_preprocessed.copy()\n",
    "\n",
    "train_test_scaled_inputs[categorical_features] = train_test_scaled_inputs[categorical_features].astype('category')\n",
    "for catitem in categorical_features:\n",
    "    train_test_scaled_inputs[catitem] = train_test_scaled_inputs[catitem].cat.codes"
   ]
  },
  {
   "cell_type": "code",
   "execution_count": 196,
   "metadata": {},
   "outputs": [],
   "source": [
    "categorical_features = list(train_test_scaled_inputs.select_dtypes(exclude=[\"number\"]).columns)\n",
    "train_test_num_features = train_test_scaled_inputs.drop(categorical_features,axis=1)\n",
    "train_test_num_features_col = train_test_num_features.columns.values\n",
    "\n",
    "scaler = StandardScaler()\n",
    "scaler.fit(train_test_num_features.values)\n",
    "\n",
    "train_test_num_features = scaler.transform(train_test_num_features.values)\n",
    "train_test_scaled_inputs[train_test_num_features_col] = train_test_num_features"
   ]
  },
  {
   "cell_type": "markdown",
   "metadata": {},
   "source": [
    "### *** OR: Standardize numerical features & create dummy variables for categorical features"
   ]
  },
  {
   "cell_type": "code",
   "execution_count": 205,
   "metadata": {},
   "outputs": [],
   "source": [
    "categorical_features = list(df_train_test_preprocessed.select_dtypes(exclude=[\"number\"]).columns)"
   ]
  },
  {
   "cell_type": "code",
   "execution_count": 206,
   "metadata": {},
   "outputs": [],
   "source": [
    "train_test_scaled_inputs = df_train_test_preprocessed.copy()\n",
    "train_test_num_features = train_test_scaled_inputs.drop(categorical_features,axis=1)\n",
    "train_test_num_features_col = train_test_num_features.columns.values\n",
    "\n",
    "scaler = StandardScaler()\n",
    "scaler.fit(train_test_num_features.values)\n",
    "\n",
    "train_test_num_features = scaler.transform(train_test_num_features.values)\n",
    "train_test_scaled_inputs[train_test_num_features_col] = train_test_num_features"
   ]
  },
  {
   "cell_type": "code",
   "execution_count": 207,
   "metadata": {},
   "outputs": [],
   "source": [
    "train_test_scaled_inputs = pd.get_dummies(train_test_scaled_inputs,columns=categorical_features,drop_first=True)"
   ]
  },
  {
   "cell_type": "markdown",
   "metadata": {},
   "source": [
    "### Split back into train and test sets"
   ]
  },
  {
   "cell_type": "code",
   "execution_count": 208,
   "metadata": {},
   "outputs": [],
   "source": [
    "train_scaled_inputs, test_scaled_inputs = train_test_scaled_inputs.iloc[:train_len,:], train_test_scaled_inputs.iloc[train_len:,:]"
   ]
  },
  {
   "cell_type": "markdown",
   "metadata": {},
   "source": [
    "### Train-validation split for RF"
   ]
  },
  {
   "cell_type": "code",
   "execution_count": 149,
   "metadata": {},
   "outputs": [],
   "source": [
    "# train_target_nohe_ros"
   ]
  },
  {
   "cell_type": "code",
   "execution_count": 155,
   "metadata": {},
   "outputs": [],
   "source": [
    "x_train, x_val, y_train, y_val = train_test_split(train_scaled_inputs,train_target_nohe, test_size = 0.2, random_state = 42)"
   ]
  },
  {
   "cell_type": "markdown",
   "metadata": {},
   "source": [
    "### Train-validation split for NN"
   ]
  },
  {
   "cell_type": "code",
   "execution_count": 221,
   "metadata": {},
   "outputs": [],
   "source": [
    "x_train, x_val, y_train, y_val = train_test_split(train_scaled_inputs, train_target_nohe_num, test_size = 0.2, random_state = 42)"
   ]
  },
  {
   "cell_type": "markdown",
   "metadata": {},
   "source": [
    "## Modeling using a Random Forest Classifier"
   ]
  },
  {
   "cell_type": "code",
   "execution_count": 151,
   "metadata": {},
   "outputs": [],
   "source": [
    "# One-hot-encoded dataset: n_estimators=100, max_features=60, max_depth=18\n",
    "# Label-encoded dataset: n_estimators=200, max_features=6, max_depth=18"
   ]
  },
  {
   "cell_type": "code",
   "execution_count": 156,
   "metadata": {},
   "outputs": [
    {
     "data": {
      "text/plain": [
       "RandomForestClassifier(bootstrap=True, ccp_alpha=0.0, class_weight=None,\n",
       "                       criterion='gini', max_depth=18, max_features=6,\n",
       "                       max_leaf_nodes=None, max_samples=None,\n",
       "                       min_impurity_decrease=0.0, min_impurity_split=None,\n",
       "                       min_samples_leaf=1, min_samples_split=2,\n",
       "                       min_weight_fraction_leaf=0.0, n_estimators=200,\n",
       "                       n_jobs=-1, oob_score=False, random_state=42, verbose=0,\n",
       "                       warm_start=False)"
      ]
     },
     "execution_count": 156,
     "metadata": {},
     "output_type": "execute_result"
    }
   ],
   "source": [
    "rf = RandomForestClassifier(n_estimators = 200, max_depth = 18, max_features=6, \n",
    "                            n_jobs=-1, random_state = 42)\n",
    "rf.fit(x_train,y_train.values.ravel())"
   ]
  },
  {
   "cell_type": "markdown",
   "metadata": {},
   "source": [
    "Train set and validation set scores"
   ]
  },
  {
   "cell_type": "code",
   "execution_count": 157,
   "metadata": {},
   "outputs": [
    {
     "name": "stdout",
     "output_type": "stream",
     "text": [
      "0.9161826599326599\n",
      "0.8098484848484848\n"
     ]
    }
   ],
   "source": [
    "print(rf.score(x_train,y_train))\n",
    "print(rf.score(x_val,y_val))"
   ]
  },
  {
   "cell_type": "markdown",
   "metadata": {},
   "source": [
    "Hyper-parameter tuning using GridSearchCV"
   ]
  },
  {
   "cell_type": "code",
   "execution_count": 154,
   "metadata": {},
   "outputs": [],
   "source": [
    "# param_grid = { \n",
    "#     'n_estimators': [150, 200, 250],\n",
    "#     'max_features': [5,6,7],\n",
    "#     'max_depth': [10,15,20]\n",
    "# }\n",
    "\n",
    "# CV_rfc = GridSearchCV(estimator=rf, param_grid=param_grid, cv=5, scoring='accuracy', n_jobs=-1)\n",
    "# CV_rfc.fit(x_train,y_train.values.ravel())\n",
    "# print(CV_rfc.best_score_)\n",
    "# print(CV_rfc.best_params_)\n",
    "# print(CV_rfc.grid_scores_)"
   ]
  },
  {
   "cell_type": "markdown",
   "metadata": {},
   "source": [
    "Train set confusion matrix"
   ]
  },
  {
   "cell_type": "code",
   "execution_count": 155,
   "metadata": {},
   "outputs": [
    {
     "data": {
      "image/png": "[encoded data removed]",
      "text/plain": [
       "<Figure size 432x288 with 2 Axes>"
      ]
     },
     "metadata": {
      "needs_background": "light"
     },
     "output_type": "display_data"
    }
   ],
   "source": [
    "y_train_rf_pred = rf.predict(x_train)\n",
    "\n",
    "cm_train_rf = confusion_matrix(y_train, y_train_rf_pred,labels=['functional','non functional','functional needs repair'])\n",
    "cm_train_rf_pd = pd.DataFrame(data=cm_train_rf,columns=['Predicted \\n functional','Predicted \\n non functional','Predicted \\n functional \\n needs repair'],index=['Actual \\n functional', 'Actual \\n non functional', 'Actual \\n functional \\n needs repair'])\n",
    "sns.heatmap(cm_train_rf_pd, annot=True, fmt='d', cmap='coolwarm')\n",
    "plt.show()"
   ]
  },
  {
   "cell_type": "markdown",
   "metadata": {},
   "source": [
    "Validation set confusion matrix"
   ]
  },
  {
   "cell_type": "code",
   "execution_count": 156,
   "metadata": {
    "scrolled": true
   },
   "outputs": [
    {
     "data": {
      "image/png": "[encoded data removed]",
      "text/plain": [
       "<Figure size 432x288 with 2 Axes>"
      ]
     },
     "metadata": {
      "needs_background": "light"
     },
     "output_type": "display_data"
    }
   ],
   "source": [
    "y_val_rf_pred = rf.predict(x_val)\n",
    "\n",
    "cm_val_rf = confusion_matrix(y_val, y_val_rf_pred,labels=['functional','non functional','functional needs repair'])\n",
    "cm_val_rf_pd = pd.DataFrame(data=cm_val_rf,columns=['Predicted \\n functional','Predicted \\n non functional','Predicted \\n functional \\n needs repair'],index=['Actual \\n functional', 'Actual \\n non functional', 'Actual \\n functional \\n needs repair'])\n",
    "sns.heatmap(cm_val_rf_pd, annot=True, fmt='d', cmap='coolwarm')\n",
    "plt.show()"
   ]
  },
  {
   "cell_type": "markdown",
   "metadata": {},
   "source": [
    "Feature importance in the model"
   ]
  },
  {
   "cell_type": "code",
   "execution_count": 157,
   "metadata": {
    "scrolled": false
   },
   "outputs": [
    {
     "data": {
      "text/plain": [
       "[('quantity', 0.17125779251728898),\n",
       " ('longitude', 0.11793041298446802),\n",
       " ('latitude', 0.11393425243128284),\n",
       " ('gps_height', 0.07589321035156905),\n",
       " ('waterpoint_type', 0.07144299930750754),\n",
       " ('construction_year', 0.06716900326303986),\n",
       " ('payment', 0.048852440012244404),\n",
       " ('extraction_type_class', 0.046515255144323156),\n",
       " ('extraction_type', 0.03139968494725745),\n",
       " ('funder', 0.030550730958438868),\n",
       " ('source', 0.027111350175528605),\n",
       " ('district_code', 0.025790616953352975),\n",
       " ('region', 0.02495431308960687),\n",
       " ('month_recorded', 0.024920088746200067),\n",
       " ('installer', 0.021283505411059146),\n",
       " ('management', 0.018114851656759266),\n",
       " ('basin', 0.017491159553780545),\n",
       " ('scheme_management', 0.015275491303968085),\n",
       " ('permit', 0.009110371648408893),\n",
       " ('water_quality', 0.009004078641883058),\n",
       " ('management_group', 0.008834569006980658),\n",
       " ('source_class', 0.008384958311240392),\n",
       " ('public_meeting', 0.007829345105633202),\n",
       " ('lga', 0.006949518478178139)]"
      ]
     },
     "execution_count": 157,
     "metadata": {},
     "output_type": "execute_result"
    }
   ],
   "source": [
    "model = rf.fit(x_train,y_train.values.ravel())\n",
    "values = sorted(zip(x_train.columns, model.feature_importances_), key=lambda x: -x[1])\n",
    "values"
   ]
  },
  {
   "cell_type": "markdown",
   "metadata": {},
   "source": [
    "## Modeling using an XGBClassifier"
   ]
  },
  {
   "cell_type": "code",
   "execution_count": 72,
   "metadata": {},
   "outputs": [],
   "source": [
    "#import xgboost as xgb\n",
    "#from xgboost import plot_importance"
   ]
  },
  {
   "cell_type": "code",
   "execution_count": 73,
   "metadata": {},
   "outputs": [],
   "source": [
    "#xgb_model = xgb.XGBClassifier(objective='multi:softprob', n_estimators=200, max_depth=20, random_state=42)\n",
    "#xgb_model.fit(x_train,y_train.values.ravel())"
   ]
  },
  {
   "cell_type": "code",
   "execution_count": 74,
   "metadata": {},
   "outputs": [],
   "source": [
    "#print(xgb_model.score(x_train,y_train))\n",
    "#print(xgb_model.score(x_val,y_val))"
   ]
  },
  {
   "cell_type": "code",
   "execution_count": 75,
   "metadata": {
    "scrolled": true
   },
   "outputs": [],
   "source": [
    "#confusion_matrix(y_val,xgb_model.predict(x_val))"
   ]
  },
  {
   "cell_type": "code",
   "execution_count": 76,
   "metadata": {},
   "outputs": [],
   "source": [
    "#plot_importance(xgb_model)\n",
    "#plt.show()"
   ]
  },
  {
   "cell_type": "markdown",
   "metadata": {},
   "source": [
    "## Modeling using a Neural Network"
   ]
  },
  {
   "cell_type": "code",
   "execution_count": 222,
   "metadata": {},
   "outputs": [],
   "source": [
    "# train\n",
    "train_inputs, train_target = x_train.values, y_train.values\n",
    "# validation\n",
    "val_inputs, val_target = x_val.values, y_val.values"
   ]
  },
  {
   "cell_type": "code",
   "execution_count": 219,
   "metadata": {},
   "outputs": [
    {
     "name": "stdout",
     "output_type": "stream",
     "text": [
      "Train on 42768 samples, validate on 10692 samples\n",
      "Epoch 1/100\n",
      "42768/42768 - 2s - loss: 0.6792 - accuracy: 0.7123 - val_loss: 0.6279 - val_accuracy: 0.7431\n",
      "Epoch 2/100\n",
      "42768/42768 - 2s - loss: 0.5775 - accuracy: 0.7622 - val_loss: 0.5854 - val_accuracy: 0.7584\n",
      "Epoch 3/100\n",
      "42768/42768 - 1s - loss: 0.5452 - accuracy: 0.7771 - val_loss: 0.5758 - val_accuracy: 0.7652\n",
      "Epoch 4/100\n",
      "42768/42768 - 2s - loss: 0.5271 - accuracy: 0.7839 - val_loss: 0.5717 - val_accuracy: 0.7670\n",
      "Epoch 5/100\n",
      "42768/42768 - 2s - loss: 0.5136 - accuracy: 0.7881 - val_loss: 0.5616 - val_accuracy: 0.7726\n",
      "Epoch 6/100\n",
      "42768/42768 - 1s - loss: 0.5017 - accuracy: 0.7942 - val_loss: 0.5569 - val_accuracy: 0.7749\n",
      "Epoch 7/100\n",
      "42768/42768 - 1s - loss: 0.4922 - accuracy: 0.7977 - val_loss: 0.5505 - val_accuracy: 0.7783\n",
      "Epoch 8/100\n",
      "42768/42768 - 1s - loss: 0.4834 - accuracy: 0.8024 - val_loss: 0.5558 - val_accuracy: 0.7771\n",
      "Epoch 9/100\n",
      "42768/42768 - 2s - loss: 0.4774 - accuracy: 0.8052 - val_loss: 0.5468 - val_accuracy: 0.7780\n",
      "Epoch 10/100\n",
      "42768/42768 - 2s - loss: 0.4697 - accuracy: 0.8084 - val_loss: 0.5498 - val_accuracy: 0.7751\n",
      "Epoch 11/100\n",
      "42768/42768 - 2s - loss: 0.4635 - accuracy: 0.8097 - val_loss: 0.5734 - val_accuracy: 0.7579\n",
      "Epoch 12/100\n",
      "42768/42768 - 1s - loss: 0.4587 - accuracy: 0.8109 - val_loss: 0.5460 - val_accuracy: 0.7799\n",
      "Epoch 13/100\n",
      "42768/42768 - 1s - loss: 0.4522 - accuracy: 0.8146 - val_loss: 0.5496 - val_accuracy: 0.7752\n",
      "Epoch 14/100\n",
      "42768/42768 - 1s - loss: 0.4468 - accuracy: 0.8177 - val_loss: 0.5474 - val_accuracy: 0.7790\n",
      "Epoch 15/100\n",
      "42768/42768 - 2s - loss: 0.4418 - accuracy: 0.8175 - val_loss: 0.5493 - val_accuracy: 0.7832\n"
     ]
    },
    {
     "data": {
      "text/plain": [
       "<tensorflow.python.keras.callbacks.History at 0x7fd633d71710>"
      ]
     },
     "execution_count": 219,
     "metadata": {},
     "output_type": "execute_result"
    }
   ],
   "source": [
    "input_size = len(x_train.columns)\n",
    "output_size = 3\n",
    "\n",
    "# rule of thumb: between input_size and output_size\n",
    "hidden_layer_size = 128\n",
    "\n",
    "nn = tf.keras.Sequential([\n",
    "    tf.keras.layers.Dense(hidden_layer_size, activation='relu'), # 1st hidden layer\n",
    "    tf.keras.layers.Dense(hidden_layer_size, activation='relu'), # 2nd hidden layer\n",
    "    tf.keras.layers.Dense(output_size, activation='softmax') # output layer\n",
    "])\n",
    "\n",
    "nn.compile(optimizer='adam', loss='sparse_categorical_crossentropy', metrics=['accuracy'])\n",
    "\n",
    "batch_size = 200\n",
    "max_epochs = 100\n",
    "\n",
    "early_stopping = tf.keras.callbacks.EarlyStopping(patience=3)\n",
    "\n",
    "nn.fit(train_inputs,\n",
    "          train_target,\n",
    "          batch_size=batch_size,\n",
    "          epochs=max_epochs,\n",
    "          callbacks=[early_stopping],\n",
    "          validation_data=(ival_inputs, ival_target),\n",
    "          verbose = 2\n",
    "          )"
   ]
  },
  {
   "cell_type": "markdown",
   "metadata": {},
   "source": [
    "Train/internal validation/validation scores"
   ]
  },
  {
   "cell_type": "code",
   "execution_count": 220,
   "metadata": {},
   "outputs": [
    {
     "name": "stdout",
     "output_type": "stream",
     "text": [
      "0.8294052\n",
      "0.7832024\n",
      "0.79158247\n"
     ]
    }
   ],
   "source": [
    "print(nn.evaluate(train_inputs,train_target, verbose=0)[1])\n",
    "print(nn.evaluate(ival_inputs,ival_target, verbose=0)[1])\n",
    "print(nn.evaluate(val_inputs,val_target, verbose=0)[1])"
   ]
  },
  {
   "cell_type": "markdown",
   "metadata": {},
   "source": [
    "## Testing"
   ]
  },
  {
   "cell_type": "markdown",
   "metadata": {},
   "source": [
    "### Obtain predictions from model on test set"
   ]
  },
  {
   "cell_type": "markdown",
   "metadata": {},
   "source": [
    "Random Forest"
   ]
  },
  {
   "cell_type": "code",
   "execution_count": 158,
   "metadata": {},
   "outputs": [],
   "source": [
    "y_test_model_pred = rf.predict(test_scaled_inputs)"
   ]
  },
  {
   "cell_type": "markdown",
   "metadata": {},
   "source": [
    "Neural Network"
   ]
  },
  {
   "cell_type": "code",
   "execution_count": 97,
   "metadata": {},
   "outputs": [],
   "source": [
    "y_test_model_pred = nn.predict_classes(test_scaled_inputs.values)"
   ]
  },
  {
   "cell_type": "markdown",
   "metadata": {},
   "source": [
    "### Create csv file for submission"
   ]
  },
  {
   "cell_type": "code",
   "execution_count": 159,
   "metadata": {},
   "outputs": [],
   "source": [
    "df_submission = df_test_values[['id']].copy()"
   ]
  },
  {
   "cell_type": "code",
   "execution_count": 162,
   "metadata": {},
   "outputs": [],
   "source": [
    "df_submission['status_group'] = y_test_model_pred\n",
    "df_submission['status_group'].replace({0:'functional',1:'non functional',2:'functional needs repair'},inplace=True)"
   ]
  },
  {
   "cell_type": "code",
   "execution_count": 163,
   "metadata": {},
   "outputs": [
    {
     "data": {
      "text/html": [
       "<div>\n",
       "<style scoped>\n",
       "    .dataframe tbody tr th:only-of-type {\n",
       "        vertical-align: middle;\n",
       "    }\n",
       "\n",
       "    .dataframe tbody tr th {\n",
       "        vertical-align: top;\n",
       "    }\n",
       "\n",
       "    .dataframe thead th {\n",
       "        text-align: right;\n",
       "    }\n",
       "</style>\n",
       "<table border=\"1\" class=\"dataframe\">\n",
       "  <thead>\n",
       "    <tr style=\"text-align: right;\">\n",
       "      <th></th>\n",
       "      <th>id</th>\n",
       "      <th>status_group</th>\n",
       "    </tr>\n",
       "  </thead>\n",
       "  <tbody>\n",
       "    <tr>\n",
       "      <th>0</th>\n",
       "      <td>50785</td>\n",
       "      <td>non functional</td>\n",
       "    </tr>\n",
       "    <tr>\n",
       "      <th>1</th>\n",
       "      <td>51630</td>\n",
       "      <td>functional</td>\n",
       "    </tr>\n",
       "    <tr>\n",
       "      <th>2</th>\n",
       "      <td>17168</td>\n",
       "      <td>functional</td>\n",
       "    </tr>\n",
       "    <tr>\n",
       "      <th>3</th>\n",
       "      <td>45559</td>\n",
       "      <td>non functional</td>\n",
       "    </tr>\n",
       "    <tr>\n",
       "      <th>4</th>\n",
       "      <td>49871</td>\n",
       "      <td>functional</td>\n",
       "    </tr>\n",
       "  </tbody>\n",
       "</table>\n",
       "</div>"
      ],
      "text/plain": [
       "      id    status_group\n",
       "0  50785  non functional\n",
       "1  51630      functional\n",
       "2  17168      functional\n",
       "3  45559  non functional\n",
       "4  49871      functional"
      ]
     },
     "execution_count": 163,
     "metadata": {},
     "output_type": "execute_result"
    }
   ],
   "source": [
    "df_submission.head()"
   ]
  },
  {
   "cell_type": "code",
   "execution_count": 101,
   "metadata": {},
   "outputs": [],
   "source": [
    "df_submission.to_csv('test_predictions.csv', index=False)"
   ]
  },
  {
   "cell_type": "code",
   "execution_count": null,
   "metadata": {},
   "outputs": [],
   "source": []
  }
 ],
 "metadata": {
  "kernelspec": {
   "display_name": "Python 3",
   "language": "python",
   "name": "python3"
  },
  "language_info": {
   "codemirror_mode": {
    "name": "ipython",
    "version": 3
   },
   "file_extension": ".py",
   "mimetype": "text/x-python",
   "name": "python",
   "nbconvert_exporter": "python",
   "pygments_lexer": "ipython3",
   "version": "3.7.3"
  }
 },
 "nbformat": 4,
 "nbformat_minor": 2
}
